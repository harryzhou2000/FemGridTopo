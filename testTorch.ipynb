{
 "cells": [
  {
   "cell_type": "code",
   "execution_count": 2,
   "metadata": {},
   "outputs": [
    {
     "name": "stdout",
     "output_type": "stream",
     "text": [
      "tensor([[ 0,  8, 16, 24],\n",
      "        [ 1,  9, 17, 25],\n",
      "        [ 2, 10, 18, 26],\n",
      "        [ 3, 11, 19, 27],\n",
      "        [ 4, 12, 20, 28],\n",
      "        [ 5, 13, 21, 29],\n",
      "        [ 6, 14, 22, 30],\n",
      "        [ 7, 15, 23, 31]])\n",
      "tensor(1.)\n"
     ]
    }
   ],
   "source": [
    "import torch\n",
    "import torch.nn\n",
    "import torch.nn.functional as F\n",
    "\n",
    "a = torch.arange(32)\n",
    "\n",
    "b = a.reshape((4,8))\n",
    "\n",
    "print(b.permute(1,0))\n",
    "\n",
    "b % 2\n",
    "\n",
    "A = torch.ones((4,4))\n",
    "B = torch.zeros((4,4))\n",
    "errAB = F.mse_loss(A,B)\n",
    "print(errAB)"
   ]
  }
 ],
 "metadata": {
  "interpreter": {
   "hash": "eb365cca39980a4c4b04fccb2b6899d42e50a20cfbf6c83c0d3d6751eb064a41"
  },
  "kernelspec": {
   "display_name": "Python 3.8.12 64-bit ('DL02': conda)",
   "language": "python",
   "name": "python3"
  },
  "language_info": {
   "codemirror_mode": {
    "name": "ipython",
    "version": 3
   },
   "file_extension": ".py",
   "mimetype": "text/x-python",
   "name": "python",
   "nbconvert_exporter": "python",
   "pygments_lexer": "ipython3",
   "version": "3.8.12"
  },
  "orig_nbformat": 4
 },
 "nbformat": 4,
 "nbformat_minor": 2
}
