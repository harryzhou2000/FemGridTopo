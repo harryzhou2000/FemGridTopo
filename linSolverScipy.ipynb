{
 "cells": [
  {
   "cell_type": "code",
   "execution_count": 1,
   "metadata": {},
   "outputs": [],
   "source": [
    "import scipy\n",
    "import numpy\n",
    "import scipy.sparse\n",
    "import scipy.sparse.linalg \n",
    "# from pypardiso import spsolve\n",
    "# x = spsolve(A, b)\n",
    "import pypardiso\n",
    "\n"
   ]
  },
  {
   "cell_type": "code",
   "execution_count": 2,
   "metadata": {},
   "outputs": [],
   "source": [
    "N = 10000*1000\n",
    "\n",
    "ind = [[], []]\n",
    "v = []\n",
    "\n",
    "for i in range(N):\n",
    "    if(i > 0):\n",
    "        ind[0].append(i)\n",
    "        ind[1].append(i-1)\n",
    "        v.append(-1.0)\n",
    "    if(i < N - 1):\n",
    "        ind[0].append(i)\n",
    "        ind[1].append(i+1)\n",
    "        v.append(-1.0)\n",
    "    ind[0].append(i)\n",
    "    ind[1].append(i)\n",
    "    v.append(2.0)\n",
    "ind[0].append(0)\n",
    "ind[1].append(0)\n",
    "v.append(123)\n",
    "A = scipy.sparse.csr_matrix((v, ind), shape=(N, N), dtype=numpy.float64)\n",
    "b = numpy.ones((N), dtype=numpy.float64)\n",
    "# print(A)\n",
    "\n"
   ]
  },
  {
   "cell_type": "code",
   "execution_count": 4,
   "metadata": {},
   "outputs": [],
   "source": [
    "\n",
    "for i in range(10):\n",
    "    x = pypardiso.spsolve(A,b)\n",
    "\n",
    "    "
   ]
  },
  {
   "cell_type": "code",
   "execution_count": 10,
   "metadata": {},
   "outputs": [
    {
     "name": "stdout",
     "output_type": "stream",
     "text": [
      "[   40322.04860128  5040255.07515988 10040187.10171849 ...\n",
      " 14999795.50346899  9999864.66897933  4999932.83448966]\n"
     ]
    }
   ],
   "source": [
    "\n",
    "print(x)\n",
    "\n"
   ]
  }
 ],
 "metadata": {
  "interpreter": {
   "hash": "eb365cca39980a4c4b04fccb2b6899d42e50a20cfbf6c83c0d3d6751eb064a41"
  },
  "kernelspec": {
   "display_name": "Python 3.8.12 64-bit ('DL02': conda)",
   "language": "python",
   "name": "python3"
  },
  "language_info": {
   "codemirror_mode": {
    "name": "ipython",
    "version": 3
   },
   "file_extension": ".py",
   "mimetype": "text/x-python",
   "name": "python",
   "nbconvert_exporter": "python",
   "pygments_lexer": "ipython3",
   "version": "3.8.12"
  },
  "orig_nbformat": 4
 },
 "nbformat": 4,
 "nbformat_minor": 2
}
