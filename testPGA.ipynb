{
 "cells": [
  {
   "cell_type": "code",
   "execution_count": 1,
   "metadata": {},
   "outputs": [
    {
     "name": "stdout",
     "output_type": "stream",
     "text": [
      "=== === loading case 1639537706_21764\n"
     ]
    },
    {
     "data": {
      "text/plain": [
       "gradientGenA(\n",
       "  (bndC2): Conv2d(3, 4, kernel_size=(2, 2), stride=(1, 1))\n",
       "  (rhoC1): Conv2d(1, 4, kernel_size=(1, 1), stride=(1, 1))\n",
       "  (Bseq0): Sequential(\n",
       "    (BLK0): gGABlockA(\n",
       "      (convA): Conv2d(8, 16, kernel_size=(3, 3), stride=(1, 1), padding=same, padding_mode=reflect)\n",
       "      (convB1): Conv2d(8, 48, kernel_size=(3, 3), stride=(1, 1), padding=same, padding_mode=reflect)\n",
       "      (convB2): Conv2d(48, 16, kernel_size=(3, 3), stride=(1, 1), padding=same, padding_mode=reflect)\n",
       "      (poolA): AvgPool2d(kernel_size=3, stride=1, padding=1)\n",
       "      (poolConv): Conv2d(8, 16, kernel_size=(1, 1), stride=(1, 1))\n",
       "      (act): Tanh()\n",
       "    )\n",
       "    (BLK1): gGABlockA(\n",
       "      (convA): Conv2d(16, 16, kernel_size=(3, 3), stride=(1, 1), padding=same, padding_mode=reflect)\n",
       "      (convB1): Conv2d(16, 48, kernel_size=(3, 3), stride=(1, 1), padding=same, padding_mode=reflect)\n",
       "      (convB2): Conv2d(48, 16, kernel_size=(3, 3), stride=(1, 1), padding=same, padding_mode=reflect)\n",
       "      (poolA): AvgPool2d(kernel_size=3, stride=1, padding=1)\n",
       "      (poolConv): Conv2d(16, 16, kernel_size=(1, 1), stride=(1, 1))\n",
       "      (act): Tanh()\n",
       "    )\n",
       "    (BLK2): gGABlockA(\n",
       "      (convA): Conv2d(16, 16, kernel_size=(3, 3), stride=(1, 1), padding=same, padding_mode=reflect)\n",
       "      (convB1): Conv2d(16, 48, kernel_size=(3, 3), stride=(1, 1), padding=same, padding_mode=reflect)\n",
       "      (convB2): Conv2d(48, 16, kernel_size=(3, 3), stride=(1, 1), padding=same, padding_mode=reflect)\n",
       "      (poolA): AvgPool2d(kernel_size=3, stride=1, padding=1)\n",
       "      (poolConv): Conv2d(16, 16, kernel_size=(1, 1), stride=(1, 1))\n",
       "      (act): Tanh()\n",
       "    )\n",
       "  )\n",
       "  (out): Conv2d(16, 1, kernel_size=(1, 1), stride=(1, 1))\n",
       ")"
      ]
     },
     "execution_count": 1,
     "metadata": {},
     "output_type": "execute_result"
    }
   ],
   "source": [
    "# import torch\n",
    "# import os\n",
    "\n",
    "# runs = os.listdir('saves')\n",
    "\n",
    "# casename = runs[-1]\n",
    "\n",
    "# print('=== === loading case ' + casename)\n",
    "\n",
    "# saveDir = os.path.join('saves', casename)\n",
    "\n",
    "# model = torch.load(os.path.join(saveDir, 'Original.pt'),map_location=torch.device('cpu'))\n",
    "\n",
    "# history = torch.load(os.path.join(saveDir, 'History.pt'),map_location=torch.device('cpu'))\n",
    "\n",
    "# selectStateDict = torch.load(os.path.join(\n",
    "#     saveDir, history['saveNames'][-1]),map_location=torch.device('cpu'))\n",
    "\n",
    "# model.load_state_dict(selectStateDict)\n",
    "\n",
    "# model.eval()\n",
    "\n"
   ]
  },
  {
   "cell_type": "code",
   "execution_count": 11,
   "metadata": {},
   "outputs": [
    {
     "name": "stdout",
     "output_type": "stream",
     "text": [
      "119003.99462749042 tensor([85033.9688, 60112.2617]) 60112.25774662299\n"
     ]
    },
    {
     "data": {
      "text/plain": [
       "<matplotlib.colorbar.Colorbar at 0x7f0feb8c56a0>"
      ]
     },
     "execution_count": 11,
     "metadata": {},
     "output_type": "execute_result"
    },
    {
     "data": {
      "image/png": "[encoded data removed]",
      "text/plain": [
       "<Figure size 432x288 with 2 Axes>"
      ]
     },
     "metadata": {
      "needs_background": "light"
     },
     "output_type": "display_data"
    },
    {
     "data": {
      "image/png": "[encoded data removed]",
      "text/plain": [
       "<Figure size 432x288 with 2 Axes>"
      ]
     },
     "metadata": {
      "needs_background": "light"
     },
     "output_type": "display_data"
    }
   ],
   "source": [
    "import femGTopo\n",
    "import numpy\n",
    "import numpy.linalg\n",
    "import matplotlib.pyplot as plt\n",
    "import numpy as np\n",
    "import femDataGen\n",
    "import femRandInput\n",
    "import time,os\n",
    "import torch\n",
    "import dataReader\n",
    "\n",
    "# generator = femDataGen.femDataGenFilterCut(nx=64, ny=64) \n",
    "\n",
    "# generator.loadData('data/recv', seqTarget=0)\n",
    "# case = generator.getOneCase(1,4,useda=False)\n",
    "\n",
    "torch.manual_seed(125)\n",
    "reader = dataReader.Reader(2, preserve=['bnd', 'rho', 'res', 'PI_AB'],\n",
    "                device='cpu')\n",
    "reader.ReadFile('./data/test_optTrain', 0)\n",
    "reader.state = 'train'\n",
    "i = 0\n",
    "readerIter = iter(reader)\n",
    "batch = readerIter.__next__()\n",
    "case = {}\n",
    "selectCase = 1\n",
    "case['fix'] = batch['bnd'][selectCase, 0 , :, :].to('cpu').numpy()\n",
    "case['fx'] = batch['bnd'][selectCase, 1, :, :].to('cpu').numpy()\n",
    "case['fy'] = batch['bnd'][selectCase, 2, :, :].to('cpu').numpy()\n",
    "case['rho'] = batch['rho'][selectCase, 0, :, :].to('cpu').numpy()\n",
    "\n",
    "Nx = 64\n",
    "Ny = 64\n",
    "\n",
    "fem = femGTopo.isoGridFem2DOptFun(1000,Nx,Ny,1,1)\n",
    "fem.SetElemMat(4,4,1,0.3)\n",
    "\n",
    "fix = numpy.zeros((Ny+1,Nx+1))\n",
    "fx = numpy.zeros_like(fix)\n",
    "fy = numpy.zeros_like(fix)\n",
    "fix *= numpy.nan\n",
    "fix[case['fix'] == 1.0] = 0.0\n",
    "fx=case['fx']\n",
    "fy=case['fy']\n",
    "\n",
    "# fix[((fem.xm - 5)**2 + (fem.ym - 1)**2) <= 0.6012 ** 2] = 0.0001\n",
    "rho = numpy.ones((Ny, Nx)) * 0.3\n",
    "# rho[((fem.xcm - 5)**2 + (fem.ycm - 1)**2) <= 0.6012 **2] = 0\n",
    "rho = case['rho']\n",
    "\n",
    "fem.setBCs(fix, fx, fy)\n",
    "fem.AssembleKbLocal()\n",
    "\n",
    "\n",
    "fem.EvalVM(rho, False, True)\n",
    "fem.EvalVMdiff(rho, False, False, False)\n",
    "print(fem.PI_AB, batch['PI_AB'], (fem.fx * fem.uarray + fem.fy*fem.varray).sum())\n",
    "\n",
    "plt.figure('ref')\n",
    "plt.pcolor(fem.uarray)\n",
    "plt.colorbar()\n",
    "\n",
    "\n",
    "\n",
    "plt.figure('data')\n",
    "plt.pcolor(batch['res'][selectCase,0,:,:])\n",
    "plt.colorbar()\n"
   ]
  },
  {
   "cell_type": "code",
   "execution_count": 8,
   "metadata": {},
   "outputs": [
    {
     "data": {
      "text/plain": [
       "<matplotlib.colorbar.Colorbar at 0x7f7f79069670>"
      ]
     },
     "execution_count": 8,
     "metadata": {},
     "output_type": "execute_result"
    },
    {
     "data": {
      "image/png": "[encoded data removed]",
      "text/plain": [
       "<Figure size 432x288 with 2 Axes>"
      ]
     },
     "metadata": {
      "needs_background": "light"
     },
     "output_type": "display_data"
    }
   ],
   "source": [
    "fixV = numpy.zeros_like(fix)\n",
    "fixV[numpy.logical_not(numpy.isnan(fix))] = 1.0\n",
    "bndV = numpy.concatenate((numpy.expand_dims(fixV, 0),\n",
    "    numpy.expand_dims(fx, 0),\n",
    "    numpy.expand_dims(fy, 0)))\n",
    "\n",
    "bndNN = torch.tensor(bndV,dtype=torch.float).permute(0,2,1).unsqueeze(0)\n",
    "rhoNN = torch.tensor(rho,dtype=torch.float).unsqueeze(0).permute(0,2,1).unsqueeze(0)\n",
    "daNN = model(bndNN,rhoNN)\n",
    "plt.figure('ref')\n",
    "plt.pcolor(rhoNN.squeeze().detach().numpy())\n",
    "plt.colorbar()"
   ]
  }
 ],
 "metadata": {
  "interpreter": {
   "hash": "b5f9edc84826ee606798459b24f8d80bc8194b27727dff86f13f3289016ae6f4"
  },
  "kernelspec": {
   "display_name": "Python 3.9.7 64-bit (conda)",
   "language": "python",
   "name": "python3"
  },
  "language_info": {
   "codemirror_mode": {
    "name": "ipython",
    "version": 3
   },
   "file_extension": ".py",
   "mimetype": "text/x-python",
   "name": "python",
   "nbconvert_exporter": "python",
   "pygments_lexer": "ipython3",
   "version": "3.9.7"
  },
  "orig_nbformat": 4
 },
 "nbformat": 4,
 "nbformat_minor": 2
}
